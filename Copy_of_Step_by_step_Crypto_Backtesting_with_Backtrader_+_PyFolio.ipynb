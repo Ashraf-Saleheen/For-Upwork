{
  "nbformat": 4,
  "nbformat_minor": 0,
  "metadata": {
    "colab": {
      "provenance": []
    },
    "kernelspec": {
      "name": "python3",
      "display_name": "Python 3"
    },
    "language_info": {
      "name": "python"
    }
  },
  "cells": [
    {
      "cell_type": "code",
      "execution_count": null,
      "metadata": {
        "colab": {
          "base_uri": "https://localhost:8080/",
          "height": 1000
        },
        "id": "Ok1BzLT5urpD",
        "outputId": "f2dc9313-e0c3-4656-9422-6dd53ec13c0c"
      },
      "outputs": [
        {
          "output_type": "stream",
          "name": "stdout",
          "text": [
            "Requirement already satisfied: pip in /usr/local/lib/python3.11/dist-packages (25.1.1)\n",
            "Requirement already satisfied: backtrader in /usr/local/lib/python3.11/dist-packages (1.9.78.123)\n",
            "Requirement already satisfied: yfinance in /usr/local/lib/python3.11/dist-packages (0.2.62)\n",
            "Requirement already satisfied: pyfolio in /usr/local/lib/python3.11/dist-packages (0.9.2)\n",
            "Requirement already satisfied: matplotlib in /usr/local/lib/python3.11/dist-packages (3.10.0)\n",
            "Requirement already satisfied: pandas in /usr/local/lib/python3.11/dist-packages (2.2.2)\n",
            "Requirement already satisfied: numpy in /usr/local/lib/python3.11/dist-packages (2.0.2)\n",
            "Requirement already satisfied: requests>=2.31 in /usr/local/lib/python3.11/dist-packages (from yfinance) (2.32.3)\n",
            "Requirement already satisfied: multitasking>=0.0.7 in /usr/local/lib/python3.11/dist-packages (from yfinance) (0.0.11)\n",
            "Requirement already satisfied: platformdirs>=2.0.0 in /usr/local/lib/python3.11/dist-packages (from yfinance) (4.3.8)\n",
            "Requirement already satisfied: pytz>=2022.5 in /usr/local/lib/python3.11/dist-packages (from yfinance) (2025.2)\n",
            "Requirement already satisfied: frozendict>=2.3.4 in /usr/local/lib/python3.11/dist-packages (from yfinance) (2.4.6)\n",
            "Requirement already satisfied: peewee>=3.16.2 in /usr/local/lib/python3.11/dist-packages (from yfinance) (3.18.1)\n",
            "Requirement already satisfied: beautifulsoup4>=4.11.1 in /usr/local/lib/python3.11/dist-packages (from yfinance) (4.13.4)\n",
            "Requirement already satisfied: curl_cffi>=0.7 in /usr/local/lib/python3.11/dist-packages (from yfinance) (0.11.3)\n",
            "Requirement already satisfied: protobuf>=3.19.0 in /usr/local/lib/python3.11/dist-packages (from yfinance) (5.29.5)\n",
            "Requirement already satisfied: websockets>=13.0 in /usr/local/lib/python3.11/dist-packages (from yfinance) (15.0.1)\n",
            "Requirement already satisfied: ipython>=3.2.3 in /usr/local/lib/python3.11/dist-packages (from pyfolio) (7.34.0)\n",
            "Requirement already satisfied: scipy>=0.14.0 in /usr/local/lib/python3.11/dist-packages (from pyfolio) (1.15.3)\n",
            "Requirement already satisfied: scikit-learn>=0.16.1 in /usr/local/lib/python3.11/dist-packages (from pyfolio) (1.6.1)\n",
            "Requirement already satisfied: seaborn>=0.7.1 in /usr/local/lib/python3.11/dist-packages (from pyfolio) (0.13.2)\n",
            "Requirement already satisfied: empyrical>=0.5.0 in /usr/local/lib/python3.11/dist-packages (from pyfolio) (0.5.5)\n",
            "Requirement already satisfied: contourpy>=1.0.1 in /usr/local/lib/python3.11/dist-packages (from matplotlib) (1.3.2)\n",
            "Requirement already satisfied: cycler>=0.10 in /usr/local/lib/python3.11/dist-packages (from matplotlib) (0.12.1)\n",
            "Requirement already satisfied: fonttools>=4.22.0 in /usr/local/lib/python3.11/dist-packages (from matplotlib) (4.58.2)\n",
            "Requirement already satisfied: kiwisolver>=1.3.1 in /usr/local/lib/python3.11/dist-packages (from matplotlib) (1.4.8)\n",
            "Requirement already satisfied: packaging>=20.0 in /usr/local/lib/python3.11/dist-packages (from matplotlib) (24.2)\n",
            "Requirement already satisfied: pillow>=8 in /usr/local/lib/python3.11/dist-packages (from matplotlib) (11.2.1)\n",
            "Requirement already satisfied: pyparsing>=2.3.1 in /usr/local/lib/python3.11/dist-packages (from matplotlib) (3.2.3)\n",
            "Requirement already satisfied: python-dateutil>=2.7 in /usr/local/lib/python3.11/dist-packages (from matplotlib) (2.9.0.post0)\n",
            "Requirement already satisfied: tzdata>=2022.7 in /usr/local/lib/python3.11/dist-packages (from pandas) (2025.2)\n",
            "Requirement already satisfied: soupsieve>1.2 in /usr/local/lib/python3.11/dist-packages (from beautifulsoup4>=4.11.1->yfinance) (2.7)\n",
            "Requirement already satisfied: typing-extensions>=4.0.0 in /usr/local/lib/python3.11/dist-packages (from beautifulsoup4>=4.11.1->yfinance) (4.14.0)\n",
            "Requirement already satisfied: cffi>=1.12.0 in /usr/local/lib/python3.11/dist-packages (from curl_cffi>=0.7->yfinance) (1.17.1)\n",
            "Requirement already satisfied: certifi>=2024.2.2 in /usr/local/lib/python3.11/dist-packages (from curl_cffi>=0.7->yfinance) (2025.4.26)\n",
            "Requirement already satisfied: pycparser in /usr/local/lib/python3.11/dist-packages (from cffi>=1.12.0->curl_cffi>=0.7->yfinance) (2.22)\n",
            "Requirement already satisfied: pandas-datareader>=0.2 in /usr/local/lib/python3.11/dist-packages (from empyrical>=0.5.0->pyfolio) (0.10.0)\n",
            "Requirement already satisfied: setuptools>=18.5 in /usr/local/lib/python3.11/dist-packages (from ipython>=3.2.3->pyfolio) (75.2.0)\n",
            "Requirement already satisfied: jedi>=0.16 in /usr/local/lib/python3.11/dist-packages (from ipython>=3.2.3->pyfolio) (0.19.2)\n",
            "Requirement already satisfied: decorator in /usr/local/lib/python3.11/dist-packages (from ipython>=3.2.3->pyfolio) (4.4.2)\n",
            "Requirement already satisfied: pickleshare in /usr/local/lib/python3.11/dist-packages (from ipython>=3.2.3->pyfolio) (0.7.5)\n",
            "Requirement already satisfied: traitlets>=4.2 in /usr/local/lib/python3.11/dist-packages (from ipython>=3.2.3->pyfolio) (5.7.1)\n",
            "Requirement already satisfied: prompt-toolkit!=3.0.0,!=3.0.1,<3.1.0,>=2.0.0 in /usr/local/lib/python3.11/dist-packages (from ipython>=3.2.3->pyfolio) (3.0.51)\n",
            "Requirement already satisfied: pygments in /usr/local/lib/python3.11/dist-packages (from ipython>=3.2.3->pyfolio) (2.19.1)\n",
            "Requirement already satisfied: backcall in /usr/local/lib/python3.11/dist-packages (from ipython>=3.2.3->pyfolio) (0.2.0)\n",
            "Requirement already satisfied: matplotlib-inline in /usr/local/lib/python3.11/dist-packages (from ipython>=3.2.3->pyfolio) (0.1.7)\n",
            "Requirement already satisfied: pexpect>4.3 in /usr/local/lib/python3.11/dist-packages (from ipython>=3.2.3->pyfolio) (4.9.0)\n",
            "Requirement already satisfied: wcwidth in /usr/local/lib/python3.11/dist-packages (from prompt-toolkit!=3.0.0,!=3.0.1,<3.1.0,>=2.0.0->ipython>=3.2.3->pyfolio) (0.2.13)\n",
            "Requirement already satisfied: parso<0.9.0,>=0.8.4 in /usr/local/lib/python3.11/dist-packages (from jedi>=0.16->ipython>=3.2.3->pyfolio) (0.8.4)\n",
            "Requirement already satisfied: lxml in /usr/local/lib/python3.11/dist-packages (from pandas-datareader>=0.2->empyrical>=0.5.0->pyfolio) (5.4.0)\n",
            "Requirement already satisfied: ptyprocess>=0.5 in /usr/local/lib/python3.11/dist-packages (from pexpect>4.3->ipython>=3.2.3->pyfolio) (0.7.0)\n",
            "Requirement already satisfied: six>=1.5 in /usr/local/lib/python3.11/dist-packages (from python-dateutil>=2.7->matplotlib) (1.17.0)\n",
            "Requirement already satisfied: charset-normalizer<4,>=2 in /usr/local/lib/python3.11/dist-packages (from requests>=2.31->yfinance) (3.4.2)\n",
            "Requirement already satisfied: idna<4,>=2.5 in /usr/local/lib/python3.11/dist-packages (from requests>=2.31->yfinance) (3.10)\n",
            "Requirement already satisfied: urllib3<3,>=1.21.1 in /usr/local/lib/python3.11/dist-packages (from requests>=2.31->yfinance) (2.4.0)\n",
            "Requirement already satisfied: joblib>=1.2.0 in /usr/local/lib/python3.11/dist-packages (from scikit-learn>=0.16.1->pyfolio) (1.5.1)\n",
            "Requirement already satisfied: threadpoolctl>=3.1.0 in /usr/local/lib/python3.11/dist-packages (from scikit-learn>=0.16.1->pyfolio) (3.6.0)\n"
          ]
        }
      ],
      "source": [
        "!pip install --upgrade pip\n",
        "!pip install backtrader yfinance pyfolio matplotlib pandas numpy\n"
      ]
    },
    {
      "cell_type": "markdown",
      "source": [
        "#Download crypto data (using yfinance)"
      ],
      "metadata": {
        "id": "0W2Rwp2JvhGe"
      }
    },
    {
      "cell_type": "code",
      "source": [
        "import yfinance as yf\n",
        "\n",
        "# Downloading BTC-USD daily data for the last 1 year\n",
        "data = yf.download('BTC-USD', start='2023-01-01', end='2024-01-01')\n",
        "\n",
        "print(data.head())\n"
      ],
      "metadata": {
        "colab": {
          "base_uri": "https://localhost:8080/",
          "height": 364
        },
        "id": "CQUOnuO9vOn_",
        "outputId": "366fcf12-4a1c-4c2e-9b0f-2af3e726170b"
      },
      "execution_count": null,
      "outputs": [
        {
          "output_type": "stream",
          "name": "stderr",
          "text": [
            "<ipython-input-49-168098511>:4: FutureWarning: YF.download() has changed argument auto_adjust default to True\n",
            "  data = yf.download('BTC-USD', start='2023-01-01', end='2024-01-01')\n",
            "\r[*********************100%***********************]  1 of 1 completed"
          ]
        },
        {
          "output_type": "stream",
          "name": "stdout",
          "text": [
            "Price              Close          High           Low          Open  \\\n",
            "Ticker           BTC-USD       BTC-USD       BTC-USD       BTC-USD   \n",
            "Date                                                                 \n",
            "2023-01-01  16625.080078  16630.439453  16521.234375  16547.914062   \n",
            "2023-01-02  16688.470703  16759.343750  16572.228516  16625.509766   \n",
            "2023-01-03  16679.857422  16760.447266  16622.371094  16688.847656   \n",
            "2023-01-04  16863.238281  16964.585938  16667.763672  16680.205078   \n",
            "2023-01-05  16836.736328  16884.021484  16790.283203  16863.472656   \n",
            "\n",
            "Price            Volume  \n",
            "Ticker          BTC-USD  \n",
            "Date                     \n",
            "2023-01-01   9244361700  \n",
            "2023-01-02  12097775227  \n",
            "2023-01-03  13903079207  \n",
            "2023-01-04  18421743322  \n",
            "2023-01-05  13692758566  \n"
          ]
        },
        {
          "output_type": "stream",
          "name": "stderr",
          "text": [
            "\n"
          ]
        }
      ]
    },
    {
      "cell_type": "markdown",
      "source": [
        "#Clean and rename data columns for Backtrader"
      ],
      "metadata": {
        "id": "UZ8IJjjwvtN7"
      }
    },
    {
      "cell_type": "code",
      "source": [
        "print(data.columns.tolist())"
      ],
      "metadata": {
        "colab": {
          "base_uri": "https://localhost:8080/",
          "height": 34
        },
        "id": "C8_1KEXlwBMV",
        "outputId": "c9ccc841-5510-4053-f7b4-c70abba3a5dd"
      },
      "execution_count": null,
      "outputs": [
        {
          "output_type": "stream",
          "name": "stdout",
          "text": [
            "[('Close', 'BTC-USD'), ('High', 'BTC-USD'), ('Low', 'BTC-USD'), ('Open', 'BTC-USD'), ('Volume', 'BTC-USD')]\n"
          ]
        }
      ]
    },
    {
      "cell_type": "code",
      "source": [
        "data.rename(columns={\n",
        "    'Open_BTC-USD': 'open',\n",
        "    'High_BTC-USD': 'high',\n",
        "    'Low_BTC-USD': 'low',\n",
        "    'Close_BTC-USD': 'close',\n",
        "    'Volume_BTC-USD': 'volume'\n",
        "}, inplace=True)\n"
      ],
      "metadata": {
        "id": "A-7KIniGvbcB"
      },
      "execution_count": null,
      "outputs": []
    },
    {
      "cell_type": "code",
      "source": [
        "print(data.columns.tolist())"
      ],
      "metadata": {
        "colab": {
          "base_uri": "https://localhost:8080/",
          "height": 34
        },
        "id": "OlNr0Uz1vbev",
        "outputId": "badcf2cc-386c-4f31-843b-ecd7a80a9538"
      },
      "execution_count": null,
      "outputs": [
        {
          "output_type": "stream",
          "name": "stdout",
          "text": [
            "[('Close', 'BTC-USD'), ('High', 'BTC-USD'), ('Low', 'BTC-USD'), ('Open', 'BTC-USD'), ('Volume', 'BTC-USD')]\n"
          ]
        }
      ]
    },
    {
      "cell_type": "code",
      "source": [
        "# Flattening MultiIndex columns: from ('close', 'BTC-USD') → 'close'\n",
        "data.columns = [col[0].lower() if isinstance(col, tuple) else col.lower() for col in data.columns]\n",
        "\n",
        "# Replacing infs with NaNs and drop missing values\n",
        "import numpy as np\n",
        "data.replace([np.inf, -np.inf], np.nan, inplace=True)\n",
        "data.dropna(subset=['open', 'high', 'low', 'close', 'volume'], inplace=True)\n",
        "\n",
        "print(\"✅ Data cleaned and column names flattened.\")\n"
      ],
      "metadata": {
        "colab": {
          "base_uri": "https://localhost:8080/",
          "height": 34
        },
        "id": "jxnWebHQvbhE",
        "outputId": "8b1f7ed6-ba91-4861-e658-1ac8c0e0ea9c"
      },
      "execution_count": null,
      "outputs": [
        {
          "output_type": "stream",
          "name": "stdout",
          "text": [
            "✅ Data cleaned and column names flattened.\n"
          ]
        }
      ]
    },
    {
      "cell_type": "markdown",
      "source": [
        "# Defining The Strategy"
      ],
      "metadata": {
        "id": "kKqBqq2TxKb0"
      }
    },
    {
      "cell_type": "markdown",
      "source": [
        "###Moving Average Crossover Strategy"
      ],
      "metadata": {
        "id": "BF73w_LCxY_Y"
      }
    },
    {
      "cell_type": "code",
      "source": [
        "import backtrader as bt\n",
        "\n",
        "class SmaCross(bt.Strategy):\n",
        "    params = (('fast', 20), ('slow', 50))\n",
        "\n",
        "    def __init__(self):\n",
        "        sma1 = bt.ind.SMA(period=self.p.fast)\n",
        "        sma2 = bt.ind.SMA(period=self.p.slow)\n",
        "        self.crossover = bt.ind.CrossOver(sma1, sma2)\n",
        "\n",
        "    def next(self):\n",
        "        if not self.position and self.crossover > 0:\n",
        "            self.buy()\n",
        "        elif self.position and self.crossover < 0:\n",
        "            self.close()\n"
      ],
      "metadata": {
        "id": "hN4B2bcbvbjj"
      },
      "execution_count": null,
      "outputs": []
    },
    {
      "cell_type": "markdown",
      "source": [
        "##Preparing Data Feed"
      ],
      "metadata": {
        "id": "C2MKvtF1xgcj"
      }
    },
    {
      "cell_type": "code",
      "source": [
        "data_bt = bt.feeds.PandasData(dataname=data)\n"
      ],
      "metadata": {
        "id": "uXqLuCMKxNq_"
      },
      "execution_count": null,
      "outputs": []
    },
    {
      "cell_type": "markdown",
      "source": [
        "##Setting Up Backtest Engine"
      ],
      "metadata": {
        "id": "Y2dqIFXtxoA4"
      }
    },
    {
      "cell_type": "code",
      "source": [
        "cerebro = bt.Cerebro()\n",
        "cerebro.addstrategy(SmaCross)\n",
        "cerebro.adddata(data_bt)\n",
        "cerebro.broker.setcash(10000)\n"
      ],
      "metadata": {
        "id": "wcocOQSYxNt9"
      },
      "execution_count": null,
      "outputs": []
    },
    {
      "cell_type": "markdown",
      "source": [
        "##Running & Plotting"
      ],
      "metadata": {
        "id": "kUYjwzE2xwMk"
      }
    },
    {
      "cell_type": "code",
      "source": [
        "import matplotlib.pyplot as plt\n",
        "%matplotlib inline"
      ],
      "metadata": {
        "id": "qv0OUCHGyGl3"
      },
      "execution_count": null,
      "outputs": []
    },
    {
      "cell_type": "code",
      "source": [
        "results = cerebro.run()\n",
        "cerebro.plot()\n",
        "\n"
      ],
      "metadata": {
        "colab": {
          "base_uri": "https://localhost:8080/",
          "height": 34
        },
        "id": "trddg2bnxNwS",
        "outputId": "55fc9a05-6709-4fbd-9a66-8e29e269351d"
      },
      "execution_count": null,
      "outputs": [
        {
          "output_type": "execute_result",
          "data": {
            "text/plain": [
              "[[<Figure size 640x480 with 40 Axes>]]"
            ]
          },
          "metadata": {},
          "execution_count": 58
        }
      ]
    },
    {
      "cell_type": "markdown",
      "source": [
        "#Analyze the Strategy Performance with PyFolio\n",
        "\n",
        "Generate tearsheets (like hedge funds do)\n",
        "\n",
        "Display Sharpe ratio, drawdowns, returns, volatility"
      ],
      "metadata": {
        "id": "IXNYNj5f19UK"
      }
    },
    {
      "cell_type": "code",
      "source": [
        "#import and installing pyfolio\n",
        "\n",
        "!pip install pyfolio\n",
        "import pyfolio as pf\n"
      ],
      "metadata": {
        "colab": {
          "base_uri": "https://localhost:8080/",
          "height": 766
        },
        "id": "wwid-STdynCW",
        "outputId": "a6930ead-7462-4158-c767-5965b2c50049"
      },
      "execution_count": null,
      "outputs": [
        {
          "output_type": "stream",
          "name": "stdout",
          "text": [
            "Requirement already satisfied: pyfolio in /usr/local/lib/python3.11/dist-packages (0.9.2)\n",
            "Requirement already satisfied: ipython>=3.2.3 in /usr/local/lib/python3.11/dist-packages (from pyfolio) (7.34.0)\n",
            "Requirement already satisfied: matplotlib>=1.4.0 in /usr/local/lib/python3.11/dist-packages (from pyfolio) (3.10.0)\n",
            "Requirement already satisfied: numpy>=1.11.1 in /usr/local/lib/python3.11/dist-packages (from pyfolio) (2.0.2)\n",
            "Requirement already satisfied: pandas>=0.18.1 in /usr/local/lib/python3.11/dist-packages (from pyfolio) (2.2.2)\n",
            "Requirement already satisfied: pytz>=2014.10 in /usr/local/lib/python3.11/dist-packages (from pyfolio) (2025.2)\n",
            "Requirement already satisfied: scipy>=0.14.0 in /usr/local/lib/python3.11/dist-packages (from pyfolio) (1.15.3)\n",
            "Requirement already satisfied: scikit-learn>=0.16.1 in /usr/local/lib/python3.11/dist-packages (from pyfolio) (1.6.1)\n",
            "Requirement already satisfied: seaborn>=0.7.1 in /usr/local/lib/python3.11/dist-packages (from pyfolio) (0.13.2)\n",
            "Requirement already satisfied: empyrical>=0.5.0 in /usr/local/lib/python3.11/dist-packages (from pyfolio) (0.5.5)\n",
            "Requirement already satisfied: pandas-datareader>=0.2 in /usr/local/lib/python3.11/dist-packages (from empyrical>=0.5.0->pyfolio) (0.10.0)\n",
            "Requirement already satisfied: setuptools>=18.5 in /usr/local/lib/python3.11/dist-packages (from ipython>=3.2.3->pyfolio) (75.2.0)\n",
            "Requirement already satisfied: jedi>=0.16 in /usr/local/lib/python3.11/dist-packages (from ipython>=3.2.3->pyfolio) (0.19.2)\n",
            "Requirement already satisfied: decorator in /usr/local/lib/python3.11/dist-packages (from ipython>=3.2.3->pyfolio) (4.4.2)\n",
            "Requirement already satisfied: pickleshare in /usr/local/lib/python3.11/dist-packages (from ipython>=3.2.3->pyfolio) (0.7.5)\n",
            "Requirement already satisfied: traitlets>=4.2 in /usr/local/lib/python3.11/dist-packages (from ipython>=3.2.3->pyfolio) (5.7.1)\n",
            "Requirement already satisfied: prompt-toolkit!=3.0.0,!=3.0.1,<3.1.0,>=2.0.0 in /usr/local/lib/python3.11/dist-packages (from ipython>=3.2.3->pyfolio) (3.0.51)\n",
            "Requirement already satisfied: pygments in /usr/local/lib/python3.11/dist-packages (from ipython>=3.2.3->pyfolio) (2.19.1)\n",
            "Requirement already satisfied: backcall in /usr/local/lib/python3.11/dist-packages (from ipython>=3.2.3->pyfolio) (0.2.0)\n",
            "Requirement already satisfied: matplotlib-inline in /usr/local/lib/python3.11/dist-packages (from ipython>=3.2.3->pyfolio) (0.1.7)\n",
            "Requirement already satisfied: pexpect>4.3 in /usr/local/lib/python3.11/dist-packages (from ipython>=3.2.3->pyfolio) (4.9.0)\n",
            "Requirement already satisfied: wcwidth in /usr/local/lib/python3.11/dist-packages (from prompt-toolkit!=3.0.0,!=3.0.1,<3.1.0,>=2.0.0->ipython>=3.2.3->pyfolio) (0.2.13)\n",
            "Requirement already satisfied: parso<0.9.0,>=0.8.4 in /usr/local/lib/python3.11/dist-packages (from jedi>=0.16->ipython>=3.2.3->pyfolio) (0.8.4)\n",
            "Requirement already satisfied: contourpy>=1.0.1 in /usr/local/lib/python3.11/dist-packages (from matplotlib>=1.4.0->pyfolio) (1.3.2)\n",
            "Requirement already satisfied: cycler>=0.10 in /usr/local/lib/python3.11/dist-packages (from matplotlib>=1.4.0->pyfolio) (0.12.1)\n",
            "Requirement already satisfied: fonttools>=4.22.0 in /usr/local/lib/python3.11/dist-packages (from matplotlib>=1.4.0->pyfolio) (4.58.2)\n",
            "Requirement already satisfied: kiwisolver>=1.3.1 in /usr/local/lib/python3.11/dist-packages (from matplotlib>=1.4.0->pyfolio) (1.4.8)\n",
            "Requirement already satisfied: packaging>=20.0 in /usr/local/lib/python3.11/dist-packages (from matplotlib>=1.4.0->pyfolio) (24.2)\n",
            "Requirement already satisfied: pillow>=8 in /usr/local/lib/python3.11/dist-packages (from matplotlib>=1.4.0->pyfolio) (11.2.1)\n",
            "Requirement already satisfied: pyparsing>=2.3.1 in /usr/local/lib/python3.11/dist-packages (from matplotlib>=1.4.0->pyfolio) (3.2.3)\n",
            "Requirement already satisfied: python-dateutil>=2.7 in /usr/local/lib/python3.11/dist-packages (from matplotlib>=1.4.0->pyfolio) (2.9.0.post0)\n",
            "Requirement already satisfied: tzdata>=2022.7 in /usr/local/lib/python3.11/dist-packages (from pandas>=0.18.1->pyfolio) (2025.2)\n",
            "Requirement already satisfied: lxml in /usr/local/lib/python3.11/dist-packages (from pandas-datareader>=0.2->empyrical>=0.5.0->pyfolio) (5.4.0)\n",
            "Requirement already satisfied: requests>=2.19.0 in /usr/local/lib/python3.11/dist-packages (from pandas-datareader>=0.2->empyrical>=0.5.0->pyfolio) (2.32.3)\n",
            "Requirement already satisfied: ptyprocess>=0.5 in /usr/local/lib/python3.11/dist-packages (from pexpect>4.3->ipython>=3.2.3->pyfolio) (0.7.0)\n",
            "Requirement already satisfied: six>=1.5 in /usr/local/lib/python3.11/dist-packages (from python-dateutil>=2.7->matplotlib>=1.4.0->pyfolio) (1.17.0)\n",
            "Requirement already satisfied: charset-normalizer<4,>=2 in /usr/local/lib/python3.11/dist-packages (from requests>=2.19.0->pandas-datareader>=0.2->empyrical>=0.5.0->pyfolio) (3.4.2)\n",
            "Requirement already satisfied: idna<4,>=2.5 in /usr/local/lib/python3.11/dist-packages (from requests>=2.19.0->pandas-datareader>=0.2->empyrical>=0.5.0->pyfolio) (3.10)\n",
            "Requirement already satisfied: urllib3<3,>=1.21.1 in /usr/local/lib/python3.11/dist-packages (from requests>=2.19.0->pandas-datareader>=0.2->empyrical>=0.5.0->pyfolio) (2.4.0)\n",
            "Requirement already satisfied: certifi>=2017.4.17 in /usr/local/lib/python3.11/dist-packages (from requests>=2.19.0->pandas-datareader>=0.2->empyrical>=0.5.0->pyfolio) (2025.4.26)\n",
            "Requirement already satisfied: joblib>=1.2.0 in /usr/local/lib/python3.11/dist-packages (from scikit-learn>=0.16.1->pyfolio) (1.5.1)\n",
            "Requirement already satisfied: threadpoolctl>=3.1.0 in /usr/local/lib/python3.11/dist-packages (from scikit-learn>=0.16.1->pyfolio) (3.6.0)\n"
          ]
        }
      ]
    },
    {
      "cell_type": "markdown",
      "source": [
        "#Extracting Return from Backtrader"
      ],
      "metadata": {
        "id": "BmPFp4bp2aC6"
      }
    },
    {
      "cell_type": "code",
      "source": [
        "class PyFolioAnalyzer(bt.Analyzer):\n",
        "    def __init__(self):\n",
        "        self.rets = []\n",
        "\n",
        "    def notify_trade(self, trade):\n",
        "        if trade.isclosed:\n",
        "            pnl = trade.pnl / trade.price\n",
        "            self.rets.append(pnl)\n",
        "\n",
        "    def get_analysis(self):\n",
        "        return self.rets\n"
      ],
      "metadata": {
        "id": "egNNE3SAvbla"
      },
      "execution_count": null,
      "outputs": []
    },
    {
      "cell_type": "code",
      "source": [
        "def fix_col(col):\n",
        "    # Removing underscores between letters\n",
        "    no_underscores = col.replace('_', '')\n",
        "    # Inserting underscore before 'btc-usd' part\n",
        "    fixed = no_underscores.replace('btc-usd', '_btc-usd')\n",
        "    return fixed\n",
        "\n",
        "btc_df.columns = [fix_col(col) for col in btc_df.columns]\n",
        "\n",
        "print(btc_df.columns.tolist())\n"
      ],
      "metadata": {
        "colab": {
          "base_uri": "https://localhost:8080/",
          "height": 34
        },
        "id": "uc0Rdiyr6yL1",
        "outputId": "e893b901-3151-4b25-d70f-80e1435d7a0f"
      },
      "execution_count": null,
      "outputs": [
        {
          "output_type": "stream",
          "name": "stdout",
          "text": [
            "['close_btc-usd', 'high_btc-usd', 'low_btc-usd', 'open_btc-usd', 'volume_btc-usd']\n"
          ]
        }
      ]
    },
    {
      "cell_type": "code",
      "source": [
        "class PandasData(bt.feeds.PandasData):\n",
        "    params = (\n",
        "        ('datetime', None),\n",
        "        ('open', 'open_btc-usd'),\n",
        "        ('high', 'high_btc-usd'),\n",
        "        ('low', 'low_btc-usd'),\n",
        "        ('close', 'close_btc-usd'),\n",
        "        ('volume', 'volume_btc-usd'),\n",
        "        ('openinterest', None),\n",
        "    )\n"
      ],
      "metadata": {
        "id": "j47irQPW7M1V"
      },
      "execution_count": null,
      "outputs": []
    },
    {
      "cell_type": "code",
      "source": [
        "\n",
        "cerebro = bt.Cerebro()\n",
        "data = PandasData(dataname=btc_df)\n",
        "cerebro.adddata(data)\n",
        "cerebro.broker.setcash(10000)\n",
        "cerebro.addanalyzer(bt.analyzers.PyFolio, _name='pyfolio')\n",
        "cerebro.addanalyzer(bt.analyzers.Returns, _name='returns')\n",
        "results = cerebro.run()\n"
      ],
      "metadata": {
        "id": "QAaKjEZO4gWJ"
      },
      "execution_count": null,
      "outputs": []
    },
    {
      "cell_type": "code",
      "source": [],
      "metadata": {
        "id": "P6nn2oBr2UR-"
      },
      "execution_count": null,
      "outputs": []
    },
    {
      "cell_type": "code",
      "source": [],
      "metadata": {
        "id": "Kv0zNAV92UU1"
      },
      "execution_count": null,
      "outputs": []
    }
  ]
}